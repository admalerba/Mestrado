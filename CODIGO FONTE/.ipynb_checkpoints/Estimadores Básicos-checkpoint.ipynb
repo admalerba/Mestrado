{
 "cells": [
  {
   "cell_type": "code",
   "execution_count": 1,
   "metadata": {
    "colab": {
     "base_uri": "https://localhost:8080/"
    },
    "executionInfo": {
     "elapsed": 2122,
     "status": "ok",
     "timestamp": 1696503807617,
     "user": {
      "displayName": "Adriano Malerba",
      "userId": "02582335916752452639"
     },
     "user_tz": 180
    },
    "id": "Mhkg-SGagFxM",
    "outputId": "add07ead-b60f-439b-9a6f-b2a9072a6922"
   },
   "outputs": [
    {
     "name": "stdout",
     "output_type": "stream",
     "text": [
      "Downloading...\n",
      "From: https://drive.google.com/uc?id=11CH1oS2XDpl1unTX5Xq8lm_nAPJVHS8U\n",
      "To: /content/Students dropout and academic success.csv\n",
      "\r",
      "  0% 0.00/533k [00:00<?, ?B/s]\r",
      "100% 533k/533k [00:00<00:00, 23.1MB/s]\n"
     ]
    }
   ],
   "source": [
    "!gdown https://drive.google.com/uc?id=11CH1oS2XDpl1unTX5Xq8lm_nAPJVHS8U"
   ]
  },
  {
   "cell_type": "code",
   "execution_count": 2,
   "metadata": {
    "executionInfo": {
     "elapsed": 1004,
     "status": "ok",
     "timestamp": 1696503811590,
     "user": {
      "displayName": "Adriano Malerba",
      "userId": "02582335916752452639"
     },
     "user_tz": 180
    },
    "id": "4mEVMF_NgYnl"
   },
   "outputs": [],
   "source": [
    "import pandas as pd\n",
    "dropout = pd.read_csv('/content/Students dropout and academic success.csv',sep=';')"
   ]
  },
  {
   "cell_type": "code",
   "execution_count": 4,
   "metadata": {
    "executionInfo": {
     "elapsed": 268,
     "status": "ok",
     "timestamp": 1696503835082,
     "user": {
      "displayName": "Adriano Malerba",
      "userId": "02582335916752452639"
     },
     "user_tz": 180
    },
    "id": "c5mFNWUuggi1"
   },
   "outputs": [],
   "source": [
    "dropout = dropout[dropout['Target']!='Enrolled']\n",
    "dropout['Target'], target_names = pd.factorize(dropout['Target'])"
   ]
  },
  {
   "cell_type": "code",
   "execution_count": 5,
   "metadata": {
    "executionInfo": {
     "elapsed": 290,
     "status": "ok",
     "timestamp": 1696503852164,
     "user": {
      "displayName": "Adriano Malerba",
      "userId": "02582335916752452639"
     },
     "user_tz": 180
    },
    "id": "_rn3BXILgmHx"
   },
   "outputs": [],
   "source": [
    "X = dropout[dropout.columns[:-1]].values\n",
    "y = dropout[dropout.columns[-1]].values"
   ]
  },
  {
   "cell_type": "code",
   "execution_count": null,
   "metadata": {
    "id": "kqN7AiEEgrH0"
   },
   "outputs": [],
   "source": [
    "from sklearn.linear_model import RidgeClassifier, LogisticRegression\n",
    "from sklearn.dummy import DummyClassifier\n",
    "from sklearn.discriminant_analysis import LinearDiscriminantAnalysis, QuadraticDiscriminantAnalysis\n",
    "from sklearn.ensemble import AdaBoostClassifier, BaggingClassifier, ExtraTreesClassifier, GradientBoostingClassifier, RandomForestClassifier, HistGradientBoostingClassifier\n",
    "from sklearn.gaussian_process import GaussianProcessClassifier\n",
    "from sklearn.naive_bayes import BernoulliNB, CategoricalNB, ComplementNB, MultinomialNB, GaussianNB\n",
    "from sklearn.neighbors import KNeighborsClassifier, RadiusNeighborsClassifier, NearestCentroid\n",
    "from sklearn.neural_network import MLPClassifier\n",
    "from sklearn.svm import LinearSVC, NuSVC, SVC\n",
    "from sklearn.tree import DecisionTreeClassifier, ExtraTreeClassifier\n",
    "from sklearn.model_selection import GridSearchCV\n",
    "import warnings\n",
    "warnings.filterwarnings('ignore')\n",
    "\n",
    "tecnicas = [\n",
    "  RidgeClassifier(random_state=42),\n",
    "  LogisticRegression(random_state=42),\n",
    "  DummyClassifier(random_state=42),\n",
    "  LinearDiscriminantAnalysis(),\n",
    "  QuadraticDiscriminantAnalysis(),\n",
    "  AdaBoostClassifier(random_state=42),\n",
    "  BaggingClassifier(random_state=42),\n",
    "  ExtraTreesClassifier(random_state=42),\n",
    "  GradientBoostingClassifier(random_state=42),\n",
    "  RandomForestClassifier(random_state=42),\n",
    "  HistGradientBoostingClassifier(random_state=42),\n",
    "  GaussianProcessClassifier(random_state=42),\n",
    "  BernoulliNB(),\n",
    "  CategoricalNB(),\n",
    "  ComplementNB(),\n",
    "  MultinomialNB(),\n",
    "  GaussianNB(),\n",
    "  KNeighborsClassifier(),\n",
    "  RadiusNeighborsClassifier(),\n",
    "  NearestCentroid(),\n",
    "  MLPClassifier(random_state=42),\n",
    "  LinearSVC(),\n",
    "  NuSVC(),\n",
    "  SVC(),\n",
    "  DecisionTreeClassifier(random_state=42, max_depth=5),\n",
    "  ExtraTreeClassifier(random_state=42, max_depth=15),\n",
    "]\n",
    "\n",
    "metricas = ['balanced_accuracy','precision_weighted','recall_weighted','f1_weighted']\n",
    "\n",
    "r=[]\n",
    "for t in tecnicas:\n",
    "  nome = t.__class__.__name__\n",
    "  cv = GridSearchCV(t,{},cv=4,scoring=metricas,refit=False)\n",
    "  dn = {'nome':nome}\n",
    "  try:\n",
    "    cv.fit(X,y)\n",
    "    dn['fitTime'] = cv.cv_results_['std_fit_time'][0]\n",
    "    for m in metricas:\n",
    "      dn[m] = cv.cv_results_['mean_test_' + m][0]\n",
    "  except Exception as e:\n",
    "    print(nome,str(e))\n",
    "  r.append(dn)\n",
    "\n",
    "warnings.filterwarnings('default')\n",
    "\n",
    "df_res = pd.DataFrame(r)"
   ]
  },
  {
   "cell_type": "code",
   "execution_count": null,
   "metadata": {
    "id": "QlHMhRmCgubO"
   },
   "outputs": [],
   "source": [
    "df_res.sort_values('balanced_accuracy',ascending=False)"
   ]
  },
  {
   "cell_type": "code",
   "execution_count": null,
   "metadata": {
    "id": "n9WoZPrIgw2F"
   },
   "outputs": [],
   "source": [
    "print(df_res.to_latex(index=False,\n",
    "                  formatters={\"name\": str.upper},\n",
    "                  float_format=\"{:.2f}\".format,\n",
    "                  position=str\n",
    "))"
   ]
  }
 ],
 "metadata": {
  "colab": {
   "authorship_tag": "ABX9TyMOg0BTPwLo5v6Mrks8HMKo",
   "provenance": []
  },
  "kernelspec": {
   "display_name": "Python 3 (ipykernel)",
   "language": "python",
   "name": "python3"
  },
  "language_info": {
   "codemirror_mode": {
    "name": "ipython",
    "version": 3
   },
   "file_extension": ".py",
   "mimetype": "text/x-python",
   "name": "python",
   "nbconvert_exporter": "python",
   "pygments_lexer": "ipython3",
   "version": "3.9.13"
  }
 },
 "nbformat": 4,
 "nbformat_minor": 1
}
